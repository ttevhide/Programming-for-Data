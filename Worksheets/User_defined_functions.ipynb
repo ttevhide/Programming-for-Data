{
  "nbformat": 4,
  "nbformat_minor": 0,
  "metadata": {
    "colab": {
      "name": "User-defined-functions.ipynb",
      "provenance": [],
      "collapsed_sections": [],
      "include_colab_link": true
    },
    "kernelspec": {
      "name": "python3",
      "display_name": "Python 3"
    },
    "language_info": {
      "name": "python"
    }
  },
  "cells": [
    {
      "cell_type": "markdown",
      "metadata": {
        "id": "view-in-github",
        "colab_type": "text"
      },
      "source": [
        "<a href=\"https://colab.research.google.com/github/ttevhide/Programming-for-Data/blob/main/Worksheets/User_defined_functions.ipynb\" target=\"_parent\"><img src=\"https://colab.research.google.com/assets/colab-badge.svg\" alt=\"Open In Colab\"/></a>"
      ]
    },
    {
      "cell_type": "markdown",
      "metadata": {
        "id": "_mb8Es9TZFdY"
      },
      "source": [
        "# User-defined functions"
      ]
    },
    {
      "cell_type": "markdown",
      "metadata": {
        "id": "yDPndJACZJKA"
      },
      "source": [
        "---\n",
        "During this course, you have already been writing user-defined functions.  We have introduced these early so that they become second nature to use.  Python is a 'scripting' language, which means that you can just write a list of instructions and click run and it will just run them from first to last.\n",
        "\n",
        "Many other programming languages, including C, C++ and Java, have a structure where you must group instructions into a named set (like a function) before you can run them.  It will be easier to learn new languages later if you have an understanding of the organisation of code into functions.\n",
        "\n",
        "## Definition\n",
        "\n",
        "A function is a set of programming instructions, grouped together and named so that, in essence, they form a new instruction that can be use in other functions.\n",
        "\n",
        "A function should:\n",
        "*   do *one* particular thing (e.g. generate one new piece of data)\n",
        "*   have a *name* that indicates what it does, that name should contain a verb (e.g. get_username(), calculate_sum() )\n",
        "*   accept a number of data items as *parameters* in its brackets\n",
        "*   *return* the one new piece of data it produces or None if no new data is produced.\n",
        "\n",
        "---\n",
        "## Examples\n",
        "Run the code for each to see what it does.\n",
        "\n",
        "\n",
        "\n",
        "\n"
      ]
    },
    {
      "cell_type": "code",
      "metadata": {
        "id": "BRlxHaF9YtoB",
        "colab": {
          "base_uri": "https://localhost:8080/"
        },
        "outputId": "f3d394ca-5c95-4900-c9cb-f4141940c660"
      },
      "source": [
        "def get_username():\n",
        "  username = input(\"Enter your username: \")\n",
        "  return username\n",
        "\n",
        "username = get_username()\n",
        "print(username)"
      ],
      "execution_count": null,
      "outputs": [
        {
          "output_type": "stream",
          "name": "stdout",
          "text": [
            "Enter your username: admin\n",
            "admin\n"
          ]
        }
      ]
    },
    {
      "cell_type": "markdown",
      "metadata": {
        "id": "RsSaHvS_bx0i"
      },
      "source": [
        "---\n"
      ]
    },
    {
      "cell_type": "code",
      "metadata": {
        "id": "DraANPGIbd13",
        "colab": {
          "base_uri": "https://localhost:8080/"
        },
        "outputId": "2d47e9d7-e59a-4126-dc5e-d7690d062a38"
      },
      "source": [
        "def calculate_sum(num1, num2):\n",
        "  sum = num1 + num2\n",
        "  return sum\n",
        "\n",
        "total = calculate_sum(4, 7)\n",
        "print(total)"
      ],
      "execution_count": null,
      "outputs": [
        {
          "output_type": "stream",
          "name": "stdout",
          "text": [
            "11\n"
          ]
        }
      ]
    },
    {
      "cell_type": "markdown",
      "metadata": {
        "id": "IaybFpHvbziA"
      },
      "source": [
        "---\n"
      ]
    },
    {
      "cell_type": "code",
      "metadata": {
        "id": "pEldozw1bw9K",
        "colab": {
          "base_uri": "https://localhost:8080/"
        },
        "outputId": "bdcd3e50-7ad5-418d-9546-6774e2e37b4e"
      },
      "source": [
        "def show_score(score):\n",
        "  print(\"Your current score is: \", score)\n",
        "\n",
        "show_score(50)"
      ],
      "execution_count": null,
      "outputs": [
        {
          "output_type": "stream",
          "name": "stdout",
          "text": [
            "Your current score is:  50\n"
          ]
        }
      ]
    },
    {
      "cell_type": "markdown",
      "metadata": {
        "id": "S54v0BzZfcle"
      },
      "source": [
        "---\n",
        "## Passing data to functions\n",
        "\n",
        "Data is passed to a function through its brackets.  The brackets contain the parameter list.  The list can contain zero or more parameters.\n",
        "\n",
        "When the function is called, the parameters (either real values or variables holding values) are added to the function call."
      ]
    },
    {
      "cell_type": "code",
      "metadata": {
        "id": "nPaM_x2cg2EI",
        "colab": {
          "base_uri": "https://localhost:8080/"
        },
        "outputId": "21be5aec-543c-45ad-e603-48f415373d98"
      },
      "source": [
        "def calculate_answer(num1, num2, operator):\n",
        "  if operator == \"+\":\n",
        "     return num1 + num2\n",
        "  elif operator == \"-\":\n",
        "     return num1 - num2\n",
        "  elif operator == \"*\":\n",
        "     return num1 * num2\n",
        "  elif operator == \"/\":\n",
        "     return num1 / num2\n",
        "  else:\n",
        "     return -999999\n",
        "\n",
        "answer = calculate_answer(5,7,\"+\")\n",
        "print(answer)"
      ],
      "execution_count": null,
      "outputs": [
        {
          "output_type": "stream",
          "name": "stdout",
          "text": [
            "12\n"
          ]
        }
      ]
    },
    {
      "cell_type": "markdown",
      "metadata": {
        "id": "4u3jcpUWg56N"
      },
      "source": [
        "To pass values easily to the function, just add the values in the same order that they are listed in the function definition.  Make sure that the values you pass in are of a type that the function obviously expects."
      ]
    },
    {
      "cell_type": "markdown",
      "metadata": {
        "id": "2pN0AVaTh-HP"
      },
      "source": [
        "---\n",
        "## Global and local variables\n",
        "\n",
        "Each variable in a Python program has a **scope**.  This determines which parts of the program can 'see' that variable. The advantage of variable scope is that it:\n",
        "*   can protect variables from being changed elsewhere in the program due to adding a variable with the same name\n",
        "*   reduces the number of different variable names needed.  If a total in one function is totally unconnected to a total in a different function they can have the same name and only exist while the function each is in is actually running.  This also saves on memory.\n",
        "\n"
      ]
    },
    {
      "cell_type": "code",
      "metadata": {
        "colab": {
          "base_uri": "https://localhost:8080/"
        },
        "id": "Ww0WCrVBhNLm",
        "outputId": "00fba8a3-5cb9-4306-f3a1-c43ef3aa2ae8"
      },
      "source": [
        "def calculate_sum(num1, num2):\n",
        "  # add the parameters together and return the total\n",
        "  total = num1 + num2  # here total is a local variable\n",
        "  print(\"Inside the function, local total\", total)\n",
        "  return total\n",
        "\n",
        "total = 0  # here total is a global variable (declared outside any function)\n",
        "\n",
        "# call the calculate_sum function, storing the result in the global variable\n",
        "new_total = calculate_sum(10, 20)\n",
        "print(\"Outside the function, global total\", total)\n",
        "print(\"Outside the function, global new_total, returned from function\", new_total)"
      ],
      "execution_count": null,
      "outputs": [
        {
          "output_type": "stream",
          "name": "stdout",
          "text": [
            "Inside the function, local total 30\n",
            "Outside the function, global total 0\n",
            "Outside the function, global new_total, returned from function 30\n"
          ]
        }
      ]
    },
    {
      "cell_type": "markdown",
      "metadata": {
        "id": "VQ2bk-Qo7jC7"
      },
      "source": [
        "---\n",
        "# Have a go"
      ]
    },
    {
      "cell_type": "markdown",
      "metadata": {
        "id": "iK9GF4T274Na"
      },
      "source": [
        "---\n",
        "### Exercise 1 - get valid digit\n",
        "\n",
        "Write a function called **input_digit()** which will:\n",
        "*  ask the user for a **number** that must be between 0 and 9, if the number is not between 0 and 9 it will keep reading until it gets a valid `number`\n",
        "*  return the valid `number` to be printed by the caller \n",
        "\n",
        "Test input:  \n",
        "33  \n",
        "-1  \n",
        "8  \n",
        "\n",
        "Expected output:  \n",
        "That number is not valid, try again  \n",
        "That number is not valid, try again  \n",
        "8  "
      ]
    },
    {
      "cell_type": "code",
      "metadata": {
        "id": "lwN-VvkH8Skt",
        "colab": {
          "base_uri": "https://localhost:8080/"
        },
        "outputId": "115dbc79-2ac4-4d19-a723-ee4023910b0e"
      },
      "source": [
        "def input_digit():\n",
        "  valid = False\n",
        "  num = int(input('Please enter a number between 0 and 9: '))\n",
        "  while not valid:\n",
        "    if num >= 0 and num <= 9:\n",
        "      valid = True\n",
        "    else:\n",
        "      num = int(input('That number is not valid, try again '))\n",
        "  return num\n",
        "\n",
        "print(input_digit())"
      ],
      "execution_count": null,
      "outputs": [
        {
          "output_type": "stream",
          "name": "stdout",
          "text": [
            "Please enter a number between 0 and 9: 33\n",
            "That number is not valid, try again -1\n",
            "That number is not valid, try again 8\n",
            "8\n"
          ]
        }
      ]
    },
    {
      "cell_type": "markdown",
      "metadata": {
        "id": "v-qE3qQ58THx"
      },
      "source": [
        "---\n",
        "### Exercise 2 - input range\n",
        "\n",
        "Write a function called **input_value(min, max)** which will:  \n",
        "*  read a **number** that must be between `min` and `max` and only return when it has a valid `number`.  The caller will print the `number`.\n",
        "\n",
        "Test input:  \n",
        "min = 3  \n",
        "max = 24  \n",
        "1  \n",
        "45  \n",
        "20  \n",
        "\n",
        "Expected output:  \n",
        "Number is out of range, try again  \n",
        "Number is out of range, try again  \n",
        "20"
      ]
    },
    {
      "cell_type": "code",
      "metadata": {
        "id": "PKAlW0sr9XR1",
        "colab": {
          "base_uri": "https://localhost:8080/"
        },
        "outputId": "3221792c-7938-411e-a9b8-68cc521a3a21"
      },
      "source": [
        "def input_value(min, max):\n",
        "  valid = False\n",
        "  num = int(input('Please enter a number: '))\n",
        "  while not valid:\n",
        "    if num >= min and num <= max:\n",
        "      valid = True\n",
        "    else:\n",
        "      num = int(input('Number is out of range, try again '))\n",
        "  return num\n",
        "\n",
        "print(input_value(3, 24))"
      ],
      "execution_count": null,
      "outputs": [
        {
          "output_type": "stream",
          "name": "stdout",
          "text": [
            "Please enter a number: 1\n",
            "Number is out of range, try again 5\n",
            "5\n"
          ]
        }
      ]
    },
    {
      "cell_type": "markdown",
      "metadata": {
        "id": "MXhunQBG9XkU"
      },
      "source": [
        "---\n",
        "### Exercise 3 - re-using the function\n",
        "\n",
        "Using the same function as in Exercise 2 above, try running it with these function calls:\n",
        "\n",
        "```\n",
        "value1 = input_value(1,10)\n",
        "value2 = input_value(11,20)\n",
        "value3 = input_value(21,30)\n",
        "print(value1, value2, value3)\n",
        "```"
      ]
    },
    {
      "cell_type": "code",
      "metadata": {
        "id": "oVpQJ3ZM9xCJ",
        "colab": {
          "base_uri": "https://localhost:8080/"
        },
        "outputId": "1bf0124f-0597-4cba-e2ac-e267e3c8b59c"
      },
      "source": [
        "value1 = input_value(1,10)\n",
        "value2 = input_value(11,20)\n",
        "value3 = input_value(21,30)\n",
        "print(value1, value2, value3)"
      ],
      "execution_count": null,
      "outputs": [
        {
          "output_type": "stream",
          "name": "stdout",
          "text": [
            "Please enter a number: 0\n",
            "Number is out of range, try again 5\n",
            "Please enter a number: 12\n",
            "Please enter a number: 26\n",
            "5 12 26\n"
          ]
        }
      ]
    },
    {
      "cell_type": "markdown",
      "metadata": {
        "id": "P0QwTt7O9xUz"
      },
      "source": [
        "---\n",
        "### Exercise 4 - generate random even number\n",
        "\n",
        "Write a function called **generate_even_number()** that will generate a random, even **number** and return it to the caller, which will print it.\n",
        "\n",
        "*Hint: the function will need to generate the number, check it is an even number, repeat if not and return the number once it has got an even number*."
      ]
    },
    {
      "cell_type": "code",
      "metadata": {
        "id": "1ccTQxUa-Ok7",
        "colab": {
          "base_uri": "https://localhost:8080/"
        },
        "outputId": "0df496c1-3d2e-4190-b1e5-22917e65a228"
      },
      "source": [
        "import random as rd\n",
        "def generate_even_number():\n",
        "  even = False\n",
        "  while not even:\n",
        "    x = int(100*rd.random())\n",
        "    if x%2 == 0:\n",
        "      even = True\n",
        "\n",
        "  return x\n",
        "\n",
        "print(generate_even_number())"
      ],
      "execution_count": null,
      "outputs": [
        {
          "output_type": "stream",
          "name": "stdout",
          "text": [
            "10\n"
          ]
        }
      ]
    },
    {
      "cell_type": "markdown",
      "metadata": {
        "id": "LYLGRytk-Ot6"
      },
      "source": [
        "---\n",
        "### Exercise 5 - biggest of 3 numbers\n",
        "\n",
        "Write a function called **check_largest(num1, num2, num3)** which will:  \n",
        "*  select the largest of `num1`, `num2` and `num3` and store this in a variable called **largest**\n",
        "*  return `largest` to the caller, where it will be printed. \n",
        "\n",
        "Test input:  \n",
        "check_largest(3,5,8)  \n",
        "check_largest(5,7,2)  \n",
        "check_largest(123,45,122)\n",
        "\n",
        "Expected output:  \n",
        "8  \n",
        "7  \n",
        "123  "
      ]
    },
    {
      "cell_type": "code",
      "metadata": {
        "id": "S_LeqEVd__Cc",
        "colab": {
          "base_uri": "https://localhost:8080/"
        },
        "outputId": "828c7697-a9a0-49c5-b6ed-e5191e2ec160"
      },
      "source": [
        "def check_largest(num1, num2, num3):\n",
        "  if num1 >= num2 and num1 >= num3:\n",
        "    largest = num1\n",
        "  elif num2 >= num1 and num2 >= num3:\n",
        "    largest = num2\n",
        "  elif num3 >= num1 and num3 >= num2:\n",
        "    largest = num3\n",
        "  return largest\n",
        "\n",
        "print(check_largest(3,5,8))\n",
        "print(check_largest(5,7,2))\n",
        "print(check_largest(123,45,122))"
      ],
      "execution_count": null,
      "outputs": [
        {
          "output_type": "stream",
          "name": "stdout",
          "text": [
            "8\n",
            "7\n",
            "123\n"
          ]
        }
      ]
    },
    {
      "cell_type": "markdown",
      "metadata": {
        "id": "cbrFvknfAO05"
      },
      "source": [
        "---\n",
        "### Exercise 6 - average of 5 numbers\n",
        "\n",
        "Write a function calculate_average(num1, num2, num3, num4, num5) which will calculate the average of the 5 numbers given.  \n",
        "\n",
        "Test input:  \n",
        "calculate_average(1,2,3,4,5)  \n",
        "calculate_average(10002, 30004, 5005, 3333333, 12345)  \n",
        "\n",
        "Expected output:  \n",
        "3.0  \n",
        "678137.8"
      ]
    },
    {
      "cell_type": "code",
      "metadata": {
        "id": "BFTEfne8APF5",
        "colab": {
          "base_uri": "https://localhost:8080/"
        },
        "outputId": "2603c019-79e4-461a-ee3f-9ef96bb8b65d"
      },
      "source": [
        "def calculate_average(num1, num2, num3, num4, num5):\n",
        "  avg = (num1 + num2 + num3 + num4 + num5) / 5\n",
        "  return avg\n",
        "\n",
        "print(calculate_average(1,2,3,4,5))\n",
        "print(calculate_average(10002, 30004, 5005, 3333333, 12345))"
      ],
      "execution_count": null,
      "outputs": [
        {
          "output_type": "stream",
          "name": "stdout",
          "text": [
            "3.0\n",
            "678137.8\n"
          ]
        }
      ]
    },
    {
      "cell_type": "markdown",
      "metadata": {
        "id": "Z58a7qa1BQ6j"
      },
      "source": [
        "---\n",
        "### Exercise 7 - calculate price\n",
        "\n",
        "Write a function called **calculate_price(product_price, items)** which will:\n",
        "\n",
        "*  ask the user to enter any **discount** they have (this can be 10% or 25% only), if the discount value is invalid, do not apply a discount   \n",
        "*  calculate the price of the items, including the discount\n",
        "*  return the `discounted price`\n",
        "\n",
        "Test input:  \n",
        "product_price is 3.50  \n",
        "number of items is 4  \n",
        "user enters discount of 10%  \n",
        "\n",
        "Expected output:  \n",
        "Discounted price: £ 12.60\n",
        "\n",
        "Test input:  \n",
        "product_price is 8.99  \n",
        "number of items is 10  \n",
        "user enters discount of 50%   \n",
        "\n",
        "Expected output:  \n",
        "Discounted price: £ 89.90  "
      ]
    },
    {
      "cell_type": "code",
      "metadata": {
        "id": "lSHhdyhUBRKr",
        "colab": {
          "base_uri": "https://localhost:8080/"
        },
        "outputId": "1c2391dd-fbd8-4a12-b522-5ff87a1f212d"
      },
      "source": [
        "def calculate_price(product_price, items):\n",
        "  total_price = product_price * items\n",
        "  discount = input('Enter any discount they have (either 10% or 25% only) ')\n",
        "  if discount.isdigit():\n",
        "    discount = int(discount)\n",
        "  else:\n",
        "    discount = int(discount[0:len(discount)-1])\n",
        "  \n",
        "  if discount >= 10 and discount <= 25:\n",
        " \n",
        "    discount_value = total_price * discount / 100\n",
        "    discounted_price = total_price - discount_value\n",
        "  else:\n",
        "    discounted_price = total_price\n",
        "\n",
        "  return round(discounted_price, 2)\n",
        "\n",
        "print(calculate_price(3.50, 4))\n",
        "print(calculate_price(8.99, 10))"
      ],
      "execution_count": null,
      "outputs": [
        {
          "output_type": "stream",
          "name": "stdout",
          "text": [
            "Enter any discount they have (either 10% or 25% only) 10\n",
            "12.6\n",
            "Enter any discount they have (either 10% or 25% only) 25%\n",
            "67.43\n"
          ]
        }
      ]
    },
    {
      "cell_type": "markdown",
      "metadata": {
        "id": "NG2u2VT-CwO6"
      },
      "source": [
        "---\n",
        "### Exercise 8 - reverse a string\n",
        "\n",
        " Write a function called **reverse_string(word)** which will:  \n",
        " \n",
        " *  reverse the letters in the word  \n",
        " *  return the **reversed** `word` for printing\n",
        "\n",
        "[Help if you need it](https://www.w3schools.com/python/python_howto_reverse_string.asp)  \n",
        "\n",
        " Test input:  \n",
        " tiger  \n",
        "\n",
        " Expected output:  \n",
        " regit\n",
        "\n",
        " Test input:  \n",
        " Expected\n",
        "\n",
        " Expected output:  \n",
        " detcepxE"
      ]
    },
    {
      "cell_type": "code",
      "metadata": {
        "id": "OdHYWCJMCwaI",
        "colab": {
          "base_uri": "https://localhost:8080/"
        },
        "outputId": "5c040f54-3c67-47ba-fd70-a3b099aeb75c"
      },
      "source": [
        "def reverse_string(word):\n",
        "  reversed_word = ''\n",
        "  for i in range(len(word)-1, -1, -1):\n",
        "    reversed_word = reversed_word + word[i]\n",
        "  return reversed_word\n",
        "\n",
        "print(reverse_string('tiger'))\n",
        "print(reverse_string('Expected'))"
      ],
      "execution_count": null,
      "outputs": [
        {
          "output_type": "stream",
          "name": "stdout",
          "text": [
            "regit\n",
            "detcepxE\n"
          ]
        }
      ]
    },
    {
      "cell_type": "markdown",
      "metadata": {
        "id": "QPHDjtXXEJ92"
      },
      "source": [
        "---\n",
        "### Exercise 9 - find factorial\n",
        "\n",
        "Write a function called **calculate_factorial(num)** which will:\n",
        "\n",
        "*  if `num` is negative set **factorial** to -1\n",
        "*  if `num` isn't negative, if it is 0 then set `factorial` to 1\n",
        "*  if `num` isn't 0 then calculate `factorial` (multiply the numbers from `num` down to 1\n",
        "*  return `factorial`.   \n",
        "\n",
        "Test inputs:  \n",
        "calculate_factorial(5)  \n",
        "calculate_factorial(-5)  \n",
        "calculate_factorial(0)    \n",
        "\n",
        "Expected outputs:  \n",
        "120  \n",
        "-1  \n",
        "1    "
      ]
    },
    {
      "cell_type": "code",
      "metadata": {
        "id": "QAln19ReEKH5",
        "colab": {
          "base_uri": "https://localhost:8080/"
        },
        "outputId": "67353ef1-3909-4615-9b08-a83540cf8fd7"
      },
      "source": [
        "def calculate_factorial(num):\n",
        "  if num < 0:\n",
        "    factorial = -1\n",
        "  elif num == 0:\n",
        "    factorial = 1\n",
        "  else:\n",
        "    factorial = 1\n",
        "    for i in range(num, 0, -1):\n",
        "      factorial = factorial * i\n",
        "  return factorial\n",
        "\n",
        "print(calculate_factorial(5))\n",
        "print(calculate_factorial(-5))\n",
        "print(calculate_factorial(0))"
      ],
      "execution_count": null,
      "outputs": [
        {
          "output_type": "stream",
          "name": "stdout",
          "text": [
            "120\n",
            "-1\n",
            "1\n"
          ]
        }
      ]
    },
    {
      "cell_type": "markdown",
      "metadata": {
        "id": "x-JvvWUVFvY8"
      },
      "source": [
        "---\n",
        "### Exercise 10 - palindrome  \n",
        "\n",
        "Write a function called **is_palindrome(word)** which will return True if the `word` passed in is a palindrome (ie it reads the same in reverse) and False if not.\n",
        "\n",
        "*Hint:  remember that upper case and lower case letters are not seen as the same by Python, there are [case conversion](https://www.codecademy.com/learn/learn-python-3/modules/learn-python3-strings/cheatsheet) functions you can use to help with this.*\n",
        "\n",
        "Test input:  \n",
        "is_palindrome(\"racecar\")  \n",
        "is_palindrome(\"Racecar\")  \n",
        "is_palindrome(\"banana\")  \n",
        "\n",
        "Expected output:  \n",
        "True  \n",
        "True  \n",
        "False  "
      ]
    },
    {
      "cell_type": "code",
      "metadata": {
        "id": "Jx0ZSYl0FvjD",
        "colab": {
          "base_uri": "https://localhost:8080/"
        },
        "outputId": "cfb9d6ba-a6a5-47c5-e691-832208fceafe"
      },
      "source": [
        "def is_palindrome(word):\n",
        "  reversed_word = ''\n",
        "  for i in range(len(word)-1, -1, -1):\n",
        "    reversed_word = reversed_word + word[i]\n",
        "  return reversed_word.upper() == word.upper()\n",
        "\n",
        "print(is_palindrome(\"racecar\"))\n",
        "print(is_palindrome(\"Racecar\"))\n",
        "print(is_palindrome(\"banana\"))"
      ],
      "execution_count": null,
      "outputs": [
        {
          "output_type": "stream",
          "name": "stdout",
          "text": [
            "True\n",
            "True\n",
            "False\n"
          ]
        }
      ]
    },
    {
      "cell_type": "code",
      "source": [
        ""
      ],
      "metadata": {
        "id": "v6aw-vtdSSmd"
      },
      "execution_count": null,
      "outputs": []
    }
  ]
}