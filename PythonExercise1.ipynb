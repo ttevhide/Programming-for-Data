{
  "nbformat": 4,
  "nbformat_minor": 0,
  "metadata": {
    "colab": {
      "name": "PythonExercise1.ipynb",
      "provenance": [],
      "include_colab_link": true
    },
    "kernelspec": {
      "name": "python3",
      "display_name": "Python 3"
    },
    "language_info": {
      "name": "python"
    }
  },
  "cells": [
    {
      "cell_type": "markdown",
      "metadata": {
        "id": "view-in-github",
        "colab_type": "text"
      },
      "source": [
        "<a href=\"https://colab.research.google.com/github/ttevhide/Programming-for-Data/blob/main/PythonExercise1.ipynb\" target=\"_parent\"><img src=\"https://colab.research.google.com/assets/colab-badge.svg\" alt=\"Open In Colab\"/></a>"
      ]
    },
    {
      "cell_type": "markdown",
      "source": [
        "1A. Write a program to add the two numbers 9 and 13."
      ],
      "metadata": {
        "id": "Y9kDXsgJh-Xk"
      }
    },
    {
      "cell_type": "code",
      "execution_count": 1,
      "metadata": {
        "id": "9YN0LOPvhNSI",
        "outputId": "99d918d3-0010-476f-a927-208204ed8ef0",
        "colab": {
          "base_uri": "https://localhost:8080/"
        }
      },
      "outputs": [
        {
          "output_type": "stream",
          "name": "stdout",
          "text": [
            "22\n"
          ]
        }
      ],
      "source": [
        "num1 = 9\n",
        "num2 = 13\n",
        "  \n",
        "sum = num1 + num2\n",
        "print(sum)"
      ]
    },
    {
      "cell_type": "markdown",
      "source": [
        "1B. Write a python program to multiply the two numbers 4 and 5."
      ],
      "metadata": {
        "id": "7WS5GzyIiXO8"
      }
    },
    {
      "cell_type": "code",
      "source": [
        "num1 = 4\n",
        "num2 = 5\n",
        "  \n",
        "sum = num1 * num2\n",
        "print(sum)"
      ],
      "metadata": {
        "id": "a4vrN63kich6",
        "outputId": "6e2483cf-68df-4d58-e802-b7d7fa86adb5",
        "colab": {
          "base_uri": "https://localhost:8080/"
        }
      },
      "execution_count": 2,
      "outputs": [
        {
          "output_type": "stream",
          "name": "stdout",
          "text": [
            "20\n"
          ]
        }
      ]
    },
    {
      "cell_type": "markdown",
      "source": [
        "1C. Write a program that calculates the annual salary of an employee after it increases by 10%. (Initial annual salary £42,000)"
      ],
      "metadata": {
        "id": "X61a4vTIi3oz"
      }
    },
    {
      "cell_type": "code",
      "source": [
        "initial_salary = 42000\n",
        "new_salary = initial_salary * 1.10\n",
        "new_salary = round(new_salary)\n",
        "print(new_salary)"
      ],
      "metadata": {
        "id": "Ipi3jrRGi8Yj",
        "outputId": "cded27bd-44dc-4663-8aee-299f2cceaf60",
        "colab": {
          "base_uri": "https://localhost:8080/"
        }
      },
      "execution_count": 3,
      "outputs": [
        {
          "output_type": "stream",
          "name": "stdout",
          "text": [
            "46200\n"
          ]
        }
      ]
    },
    {
      "cell_type": "markdown",
      "source": [
        "2A. Write a python program that finds the volume of a cuboid with length 2m, width 3m and height 5m."
      ],
      "metadata": {
        "id": "E8ZB8jBSi8nb"
      }
    },
    {
      "cell_type": "code",
      "source": [
        "volume= (2*3*5)\n",
        "print(volume)"
      ],
      "metadata": {
        "id": "IZ5ro6s9jCx8",
        "outputId": "17392380-9952-450a-9dc7-8d426a497158",
        "colab": {
          "base_uri": "https://localhost:8080/"
        }
      },
      "execution_count": 4,
      "outputs": [
        {
          "output_type": "stream",
          "name": "stdout",
          "text": [
            "30\n"
          ]
        }
      ]
    },
    {
      "cell_type": "markdown",
      "source": [
        "2B. Write a program that finds the area of a circle that has a radius of 4m. (You can take pi as being 3.14)"
      ],
      "metadata": {
        "id": "mgfDFNxBjC78"
      }
    },
    {
      "cell_type": "code",
      "source": [
        "area=(3.14*(4**2))\n",
        "print(area)"
      ],
      "metadata": {
        "id": "YMRx47ktjDD7",
        "outputId": "dd28e32b-7c3a-4549-8f7e-bb7ecf5457a3",
        "colab": {
          "base_uri": "https://localhost:8080/"
        }
      },
      "execution_count": 5,
      "outputs": [
        {
          "output_type": "stream",
          "name": "stdout",
          "text": [
            "50.24\n"
          ]
        }
      ]
    },
    {
      "cell_type": "markdown",
      "source": [
        "2C. Write a program that finds the volume of a cone of radius 2m and height 5m. (You can take pi as being 3.14)"
      ],
      "metadata": {
        "id": "6lMyZAmzjDLN"
      }
    },
    {
      "cell_type": "code",
      "source": [
        "pi=3.14\n",
        "radius=2\n",
        "height=5\n",
        "volume= (pi* (radius**2)*height)/3\n",
        "print(round(volume,2))"
      ],
      "metadata": {
        "id": "AX52qgBzjDTr",
        "outputId": "491fae7b-bab6-41ed-c40a-61efb06a9e89",
        "colab": {
          "base_uri": "https://localhost:8080/"
        }
      },
      "execution_count": 6,
      "outputs": [
        {
          "output_type": "stream",
          "name": "stdout",
          "text": [
            "20.93\n"
          ]
        }
      ]
    },
    {
      "cell_type": "markdown",
      "source": [
        "2D. Write a python program that uses a loop to find the factorial of 5. "
      ],
      "metadata": {
        "id": "iSdhsrKLjMIb"
      }
    },
    {
      "cell_type": "code",
      "source": [
        "factorial=1\n",
        "for x in range(1,6):\n",
        "  factorial=factorial*x\n",
        "print(factorial)"
      ],
      "metadata": {
        "id": "AAD9R7cfjKb0",
        "outputId": "d7f79137-0437-493c-a280-2ac32954ca09",
        "colab": {
          "base_uri": "https://localhost:8080/"
        }
      },
      "execution_count": 7,
      "outputs": [
        {
          "output_type": "stream",
          "name": "stdout",
          "text": [
            "120\n"
          ]
        }
      ]
    }
  ]
}